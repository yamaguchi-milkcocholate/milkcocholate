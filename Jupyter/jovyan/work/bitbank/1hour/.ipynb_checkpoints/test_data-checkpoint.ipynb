{
 "cells": [
  {
   "cell_type": "code",
   "execution_count": 1,
   "metadata": {},
   "outputs": [],
   "source": [
    "import pytest\n",
    "import pickle\n",
    "import datetime"
   ]
  },
  {
   "cell_type": "code",
   "execution_count": 2,
   "metadata": {},
   "outputs": [],
   "source": [
    "type = '1hour'\n",
    "save_dir = './data/'\n",
    "start = '20180601'\n",
    "end = '20180920'\n",
    "format = '%Y%m%d'\n",
    "day = datetime.datetime.strptime(start, format)\n",
    "end_day = datetime.datetime.strptime(end, format)\n",
    "iteration = 0\n",
    "list = []"
   ]
  },
  {
   "cell_type": "code",
   "execution_count": 3,
   "metadata": {},
   "outputs": [],
   "source": [
    "while iteration < 1000:\n",
    "    iteration += 1\n",
    "    day_str = day.strftime(format)\n",
    "    with open(save_dir+day_str+'_'+type+'.pkl', 'rb') as f:\n",
    "        list.append(pickle.load(f))\n",
    "    day += datetime.timedelta(days=1)\n",
    "    if day >= end_day:\n",
    "        break"
   ]
  },
  {
   "cell_type": "code",
   "execution_count": 4,
   "metadata": {},
   "outputs": [],
   "source": [
    "def testData():\n",
    "    # 全体の要素数\n",
    "    assert list.len() == 112\n",
    "    \n",
    "    # 各要素のDataFrame数\n",
    "    for i in range(list.len()):\n",
    "        em = list[i]\n",
    "        assert len(em) == 24\n",
    "        assert len(em.columns) == 6"
   ]
  },
  {
   "cell_type": "code",
   "execution_count": 5,
   "metadata": {},
   "outputs": [
    {
     "name": "stdout",
     "output_type": "stream",
     "text": [
      "      open    high     low     end  turnover                time\n",
      "0   816451  821300  816000  819508   61.4354 2018-06-01 00:00:00\n",
      "1   819540  820324  816006  818466   38.2323 2018-06-01 01:00:00\n",
      "2   818319  822000  817500  819500   50.1584 2018-06-01 02:00:00\n",
      "3   819040  821235  816000  819448   55.1022 2018-06-01 03:00:00\n",
      "4   819422  820635  817505  819927   36.1075 2018-06-01 04:00:00\n",
      "5   820149  821800  818474  820039   30.8169 2018-06-01 05:00:00\n",
      "6   820013  829000  819460  824134   93.1779 2018-06-01 06:00:00\n",
      "7   824439  830987  824140  827166   83.9685 2018-06-01 07:00:00\n",
      "8   827231  830555  824200  830554   53.4890 2018-06-01 08:00:00\n",
      "9   830554  830555  823294  824865   80.4886 2018-06-01 09:00:00\n",
      "10  824579  829639  823323  825761   62.3205 2018-06-01 10:00:00\n",
      "11  825761  828600  811837  812000  117.2814 2018-06-01 11:00:00\n",
      "12  812000  817800  810000  815798  121.2072 2018-06-01 12:00:00\n",
      "13  815835  819595  815000  817543   53.5548 2018-06-01 13:00:00\n",
      "14  817540  819485  816000  817021   35.6214 2018-06-01 14:00:00\n",
      "15  817050  818947  814000  817773   47.8763 2018-06-01 15:00:00\n",
      "16  817783  819000  816500  818498   21.2020 2018-06-01 16:00:00\n",
      "17  818524  818850  814900  816573   29.5876 2018-06-01 17:00:00\n",
      "18  817399  821641  812895  813677   31.1849 2018-06-01 18:00:00\n",
      "19  814249  819000  813529  817190   12.3574 2018-06-01 19:00:00\n",
      "20  818063  818567  813002  817331   23.2304 2018-06-01 20:00:00\n",
      "21  816637  818101  815510  817633   16.6474 2018-06-01 21:00:00\n",
      "22  817611  826463  816843  824245   42.3838 2018-06-01 22:00:00\n",
      "23  824245  826800  822910  824333   40.8102 2018-06-01 23:00:00\n"
     ]
    }
   ],
   "source": [
    "print(list[0])"
   ]
  },
  {
   "cell_type": "code",
   "execution_count": null,
   "metadata": {},
   "outputs": [],
   "source": []
  }
 ],
 "metadata": {
  "kernelspec": {
   "display_name": "Python 3",
   "language": "python",
   "name": "python3"
  },
  "language_info": {
   "codemirror_mode": {
    "name": "ipython",
    "version": 3
   },
   "file_extension": ".py",
   "mimetype": "text/x-python",
   "name": "python",
   "nbconvert_exporter": "python",
   "pygments_lexer": "ipython3",
   "version": "3.6.3"
  }
 },
 "nbformat": 4,
 "nbformat_minor": 2
}
