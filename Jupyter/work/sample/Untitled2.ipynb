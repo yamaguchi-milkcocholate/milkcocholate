{
 "cells": [
  {
   "cell_type": "code",
   "execution_count": 1,
   "metadata": {},
   "outputs": [],
   "source": [
    "import numpy as np\n",
    "import random"
   ]
  },
  {
   "cell_type": "code",
   "execution_count": 2,
   "metadata": {},
   "outputs": [],
   "source": [
    "def select_elites(geno_type, fitness, num):\n",
    "    \"\"\"\n",
    "\n",
    "    :param num: int\n",
    "    :param fitness: numpy\n",
    "    :param geno_type numpy\n",
    "    :return: numpy\n",
    "    \"\"\"\n",
    "    fitness = np.argsort(fitness)[::-1]\n",
    "    elites = geno_type[fitness[:num]]\n",
    "    return elites"
   ]
  },
  {
   "cell_type": "code",
   "execution_count": 3,
   "metadata": {},
   "outputs": [],
   "source": [
    "geno_type = np.asarray([[1,2,3],[4,5,6],[7,8,9]])\n",
    "fitness = np.asarray([11,12,13])\n",
    "elite_num = 1"
   ]
  },
  {
   "cell_type": "code",
   "execution_count": 4,
   "metadata": {},
   "outputs": [
    {
     "name": "stdout",
     "output_type": "stream",
     "text": [
      "geno_type\n",
      "[[1 2 3]\n",
      " [4 5 6]\n",
      " [7 8 9]]\n",
      "fitness\n",
      "[11 12 13]\n"
     ]
    }
   ],
   "source": [
    "print('geno_type')\n",
    "print(geno_type)\n",
    "print('fitness')\n",
    "print(fitness)"
   ]
  },
  {
   "cell_type": "code",
   "execution_count": 5,
   "metadata": {},
   "outputs": [
    {
     "name": "stdout",
     "output_type": "stream",
     "text": [
      "3\n",
      "3\n",
      "field\n",
      "[11 23 36]\n"
     ]
    }
   ],
   "source": [
    "sum_fitness = 0\n",
    "population = geno_type.shape[0]\n",
    "situations = geno_type.shape[1]\n",
    "print(population)\n",
    "print(situations)\n",
    "field = []\n",
    "for pop_i in range(population):\n",
    "    sum_fitness += fitness[pop_i]\n",
    "    field.append(sum_fitness)\n",
    "field = np.asarray(field, int)\n",
    "print('field')\n",
    "print(field)"
   ]
  },
  {
   "cell_type": "code",
   "execution_count": 13,
   "metadata": {},
   "outputs": [
    {
     "name": "stdout",
     "output_type": "stream",
     "text": [
      "geno_i 1\n",
      "7\n",
      "[0 1 2]\n",
      "0\n",
      "geno_i 2\n",
      "26\n",
      "[2]\n",
      "2\n",
      "[1 2 3 7 8 9]\n"
     ]
    }
   ],
   "source": [
    "\n",
    "new_geno_type = np.empty((0, situations), int)\n",
    "elites = select_elites(geno_type, fitness, elite_num)\n",
    "\n",
    "for geno_i in range(elite_num, population):\n",
    "    print('geno_i', geno_i)\n",
    "    roulette = random.randrange(0, sum_fitness)\n",
    "    print(roulette)\n",
    "    select_index = np.where(field >= roulette)[0]\n",
    "    print(select_index)\n",
    "    print(select_index[0])\n",
    "    select_index = select_index[0]\n",
    "    new_geno_type = np.append(new_geno_type, geno_type[select_index])\n",
    "print(new_geno_type)"
   ]
  },
  {
   "cell_type": "code",
   "execution_count": 16,
   "metadata": {},
   "outputs": [
    {
     "name": "stdout",
     "output_type": "stream",
     "text": [
      "[[1 2]\n",
      " [3 4]\n",
      " [4 5]\n",
      " [6 7]]\n"
     ]
    }
   ],
   "source": [
    "a = np.asarray([[1,2],[3,4]])\n",
    "b = np.asarray([[4,5],[6,7]])\n",
    "print(np.r_[a,b])"
   ]
  },
  {
   "cell_type": "code",
   "execution_count": null,
   "metadata": {},
   "outputs": [],
   "source": []
  }
 ],
 "metadata": {
  "kernelspec": {
   "display_name": "Python 3",
   "language": "python",
   "name": "python3"
  },
  "language_info": {
   "codemirror_mode": {
    "name": "ipython",
    "version": 3
   },
   "file_extension": ".py",
   "mimetype": "text/x-python",
   "name": "python",
   "nbconvert_exporter": "python",
   "pygments_lexer": "ipython3",
   "version": "3.6.3"
  }
 },
 "nbformat": 4,
 "nbformat_minor": 2
}
