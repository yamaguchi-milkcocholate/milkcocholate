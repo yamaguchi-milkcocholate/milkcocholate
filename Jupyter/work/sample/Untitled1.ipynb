{
 "cells": [
  {
   "cell_type": "code",
   "execution_count": 2,
   "metadata": {},
   "outputs": [
    {
     "name": "stdout",
     "output_type": "stream",
     "text": [
      "(5, 3)\n"
     ]
    }
   ],
   "source": [
    "import numpy as np\n",
    "import random\n",
    "import pprint\n",
    "def init_population(situation, population):\n",
    "    \"\"\"\n",
    "    :param situation: dict(tuple)\n",
    "    :param population: int\n",
    "    :return: numpy\n",
    "    \"\"\"\n",
    "    pop_list = []\n",
    "    for pop_i in range(population):\n",
    "        inter_list = []\n",
    "        for situ_i in range(len(situation)):\n",
    "            value = situation[situ_i]\n",
    "            inter_list.append(random.randint(value[0], value[1]))\n",
    "        pop_list.append(np.asarray(inter_list, int))\n",
    "    return np.asarray(pop_list, int)\n",
    "\n",
    "print(init_population([(1,50),(2,100),(1,59)], 5).shape)"
   ]
  },
  {
   "cell_type": "code",
   "execution_count": null,
   "metadata": {},
   "outputs": [],
   "source": []
  }
 ],
 "metadata": {
  "kernelspec": {
   "display_name": "Python 3",
   "language": "python",
   "name": "python3"
  },
  "language_info": {
   "codemirror_mode": {
    "name": "ipython",
    "version": 3
   },
   "file_extension": ".py",
   "mimetype": "text/x-python",
   "name": "python",
   "nbconvert_exporter": "python",
   "pygments_lexer": "ipython3",
   "version": "3.6.3"
  }
 },
 "nbformat": 4,
 "nbformat_minor": 2
}
