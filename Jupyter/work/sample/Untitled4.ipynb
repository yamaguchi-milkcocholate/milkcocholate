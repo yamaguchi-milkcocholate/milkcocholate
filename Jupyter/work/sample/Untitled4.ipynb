{
 "cells": [
  {
   "cell_type": "code",
   "execution_count": 1,
   "metadata": {},
   "outputs": [
    {
     "name": "stdout",
     "output_type": "stream",
     "text": [
      "2018-09-29 11:47:16.833360 start\n",
      "2018-09-29 11:47:21.839938 event2 Yes!\n",
      "2018-09-29 11:47:21.840050 event1 OK!\n",
      "2018-09-29 11:47:21.840111 event3 nice!\n",
      "2018-09-29 11:47:26.838819 event4 goal!\n",
      "2018-09-29 11:47:26.838935 end\n"
     ]
    }
   ],
   "source": [
    "import sched\n",
    "import datetime\n",
    "\n",
    "s = sched.scheduler()\n",
    "\n",
    "\n",
    "def processing(a='event4', b='goal!'):\n",
    "    print(datetime.datetime.now(), a, b)\n",
    "\n",
    "\n",
    "def schedule():\n",
    "    print(datetime.datetime.now(), 'start')\n",
    "    s.enter(10, 1, processing)\n",
    "    s.enter(5, 2, processing, kwargs={'a': 'event2', 'b': 'Yes!'})\n",
    "    s.enter(5, 1, processing, argument=('event1', 'OK!'))\n",
    "    s.enter(5, 3, processing, argument=['event3'], kwargs={'b': 'nice!'})\n",
    "    s.run()\n",
    "    print(datetime.datetime.now(), 'end')\n",
    "\n",
    "\n",
    "schedule()\n"
   ]
  },
  {
   "cell_type": "code",
   "execution_count": 5,
   "metadata": {},
   "outputs": [],
   "source": [
    "import time\n",
    "atime = datetime.datetime(2018, 9, 29, 21, 9, 0)"
   ]
  },
  {
   "cell_type": "code",
   "execution_count": 6,
   "metadata": {},
   "outputs": [
    {
     "name": "stdout",
     "output_type": "stream",
     "text": [
      "<module 'time' (built-in)>\n"
     ]
    }
   ],
   "source": [
    "print(time)"
   ]
  },
  {
   "cell_type": "code",
   "execution_count": 7,
   "metadata": {},
   "outputs": [
    {
     "name": "stdout",
     "output_type": "stream",
     "text": [
      "1538255340.0\n"
     ]
    }
   ],
   "source": [
    "print(time.mktime(atime.timetuple()))"
   ]
  },
  {
   "cell_type": "code",
   "execution_count": 9,
   "metadata": {},
   "outputs": [
    {
     "name": "stdout",
     "output_type": "stream",
     "text": [
      "2018-09-29 21:09:00\n"
     ]
    }
   ],
   "source": [
    "print(datetime.datetime.fromtimestamp(time.mktime(atime.timetuple())))"
   ]
  },
  {
   "cell_type": "code",
   "execution_count": 11,
   "metadata": {},
   "outputs": [
    {
     "name": "stdout",
     "output_type": "stream",
     "text": [
      "time.struct_time(tm_year=2018, tm_mon=9, tm_mday=29, tm_hour=21, tm_min=9, tm_sec=0, tm_wday=5, tm_yday=272, tm_isdst=-1)\n"
     ]
    }
   ],
   "source": [
    "print(atime.timetuple())"
   ]
  },
  {
   "cell_type": "code",
   "execution_count": 14,
   "metadata": {},
   "outputs": [
    {
     "name": "stdout",
     "output_type": "stream",
     "text": [
      "1538255340.0\n",
      "1538341740.0\n"
     ]
    }
   ],
   "source": [
    "unix_1 = time.mktime(datetime.datetime(2018, 9, 29, 21, 9, 0).timetuple())\n",
    "unix_2 = time.mktime(datetime.datetime(2018, 9, 30, 21, 9, 0).timetuple())\n",
    "print(unix_1)\n",
    "print(unix_2)"
   ]
  },
  {
   "cell_type": "code",
   "execution_count": 15,
   "metadata": {},
   "outputs": [
    {
     "name": "stdout",
     "output_type": "stream",
     "text": [
      "<class 'float'>\n"
     ]
    }
   ],
   "source": [
    "print(type(unix_1))"
   ]
  },
  {
   "cell_type": "code",
   "execution_count": 17,
   "metadata": {},
   "outputs": [
    {
     "name": "stdout",
     "output_type": "stream",
     "text": [
      "2018-09-29 16:56:22.624123\n",
      "<class 'datetime.datetime'>\n"
     ]
    }
   ],
   "source": [
    "now = datetime.datetime.now()\n",
    "print(now)\n",
    "print(type(now))"
   ]
  },
  {
   "cell_type": "code",
   "execution_count": 18,
   "metadata": {},
   "outputs": [
    {
     "name": "stdout",
     "output_type": "stream",
     "text": [
      "['__add__', '__class__', '__delattr__', '__dir__', '__doc__', '__eq__', '__format__', '__ge__', '__getattribute__', '__gt__', '__hash__', '__init__', '__init_subclass__', '__le__', '__lt__', '__ne__', '__new__', '__radd__', '__reduce__', '__reduce_ex__', '__repr__', '__rsub__', '__setattr__', '__sizeof__', '__str__', '__sub__', '__subclasshook__', 'astimezone', 'combine', 'ctime', 'date', 'day', 'dst', 'fold', 'fromordinal', 'fromtimestamp', 'hour', 'isocalendar', 'isoformat', 'isoweekday', 'max', 'microsecond', 'min', 'minute', 'month', 'now', 'replace', 'resolution', 'second', 'strftime', 'strptime', 'time', 'timestamp', 'timetuple', 'timetz', 'today', 'toordinal', 'tzinfo', 'tzname', 'utcfromtimestamp', 'utcnow', 'utcoffset', 'utctimetuple', 'weekday', 'year']\n"
     ]
    }
   ],
   "source": [
    "print(dir(now))"
   ]
  },
  {
   "cell_type": "code",
   "execution_count": 23,
   "metadata": {},
   "outputs": [
    {
     "name": "stdout",
     "output_type": "stream",
     "text": [
      "29\n",
      "<class 'int'>\n"
     ]
    }
   ],
   "source": [
    "print(now.day)\n",
    "print(type(now.day))"
   ]
  },
  {
   "cell_type": "code",
   "execution_count": 24,
   "metadata": {},
   "outputs": [
    {
     "name": "stdout",
     "output_type": "stream",
     "text": [
      "2018-09-29 17:14:53.407301 event1\n",
      "2018-09-29 17:14:53.409021 event2\n"
     ]
    }
   ],
   "source": [
    "import sched, time, datetime\n",
    "\n",
    "s = sched.scheduler(time.time, time.sleep)\n",
    "\n",
    "et1 = datetime.datetime(2018, 5, 7, 19)  # 実行する時間の作成\n",
    "et1 = int(time.mktime(et1.timetuple()))  # UNIX時間に変換\n",
    "\n",
    "et2 = datetime.datetime(2018, 5, 7, 19, 10)\n",
    "et2 = int(time.mktime(et2.timetuple()))\n",
    "\n",
    "def processing(a):\n",
    "    print(datetime.datetime.now(), a)\n",
    "    \n",
    "def schedule():\n",
    "    s.enterabs(et1, 1, processing, argument=('event1',))\n",
    "    s.enterabs(et2, 1, processing, argument=('event2',))\n",
    "    s.run()\n",
    "    \n",
    "schedule()"
   ]
  },
  {
   "cell_type": "code",
   "execution_count": null,
   "metadata": {},
   "outputs": [],
   "source": []
  }
 ],
 "metadata": {
  "kernelspec": {
   "display_name": "Python 3",
   "language": "python",
   "name": "python3"
  },
  "language_info": {
   "codemirror_mode": {
    "name": "ipython",
    "version": 3
   },
   "file_extension": ".py",
   "mimetype": "text/x-python",
   "name": "python",
   "nbconvert_exporter": "python",
   "pygments_lexer": "ipython3",
   "version": "3.6.3"
  }
 },
 "nbformat": 4,
 "nbformat_minor": 2
}
