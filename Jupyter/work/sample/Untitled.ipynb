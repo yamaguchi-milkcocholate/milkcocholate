{
 "cells": [
  {
   "cell_type": "code",
   "execution_count": 1,
   "metadata": {},
   "outputs": [],
   "source": [
    "import numpy as np\n",
    "import random\n",
    "import pprint\n",
    "\n",
    "\n"
   ]
  },
  {
   "cell_type": "code",
   "execution_count": 2,
   "metadata": {},
   "outputs": [],
   "source": [
    "    def select_elites(geno_type, fitness, num):\n",
    "        \"\"\"\n",
    "\n",
    "        :param num: int\n",
    "        :param fitness: numpy\n",
    "        :param geno_type numpy\n",
    "        :return: numpy\n",
    "        \"\"\"\n",
    "        fitness = np.argsort(fitness)[::-1]\n",
    "        elites = geno_type[fitness[:num]]\n",
    "        return elites"
   ]
  },
  {
   "cell_type": "code",
   "execution_count": 3,
   "metadata": {},
   "outputs": [
    {
     "name": "stdout",
     "output_type": "stream",
     "text": [
      "before\n",
      "[[1 2 3]\n",
      " [4 5 6]\n",
      " [7 8 9]]\n"
     ]
    }
   ],
   "source": [
    "geno_type = np.asarray([[1,2,3], [4,5,6], [7,8,9]])\n",
    "fitness = np.asarray([10, 11, 12])\n",
    "elite_num = 1\n",
    "mutation = 70\n",
    "cross = 2\n",
    "situation = [(1, 50), (2, 100), (1, 50)]\n",
    "\n",
    "\n",
    "sum_fitness = 0\n",
    "population = geno_type.shape[0]\n",
    "situations = geno_type.shape[1]\n",
    "print('before')\n",
    "print(geno_type)\n",
    "field = []\n",
    "for pop_i in range(population):\n",
    "    sum_fitness += fitness[pop_i]\n",
    "    field.append(fitness[pop_i])\n",
    "field = np.asarray(field, int)\n",
    "new_geno_type = np.empty((0, situations), int)\n",
    "elites = select_elites(geno_type, fitness, elite_num)\n",
    "\n",
    "\n"
   ]
  },
  {
   "cell_type": "code",
   "execution_count": 4,
   "metadata": {},
   "outputs": [
    {
     "name": "stdout",
     "output_type": "stream",
     "text": [
      "for. 1\n",
      "[[1 2 3]\n",
      " [4 5 6]\n",
      " [7 8 9]]\n"
     ]
    }
   ],
   "source": [
    "for geno_i in range(elite_num, population):\n",
    "    roulette = random.randrange(0, sum_fitness)\n",
    "    select_index = np.where(field >= roulette)[0]\n",
    "    new_geno_type = np.append(new_geno_type, geno_type[select_index])\n",
    "print('for. 1')\n",
    "print(geno_type)\n"
   ]
  },
  {
   "cell_type": "code",
   "execution_count": 5,
   "metadata": {},
   "outputs": [
    {
     "name": "stdout",
     "output_type": "stream",
     "text": [
      "for. 2\n",
      "[[1 2 3]\n",
      " [4 5 6]\n",
      " [7 8 9]]\n"
     ]
    }
   ],
   "source": [
    "for geno_i in range(elite_num, population, 2):\n",
    "    rand = random.randrange(0, 100)\n",
    "    if rand >= cross:\n",
    "        continue\n",
    "    pair_i = geno_i + 1\n",
    "    cut_point = random.randrange(0, situations - 1)\n",
    "    geno_type[geno_i] = np.asarray(np.r_[new_geno_type[geno_i][:cut_point],\n",
    "                                         new_geno_type[pair_i][cut_point + 1:]], int)\n",
    "    geno_type[pair_i] = np.asarray(np.r_[new_geno_type[pair_i][:cut_point],\n",
    "                                         new_geno_type[geno_i][cut_point + 1:]], int)\n",
    "print('for. 2')\n",
    "print(geno_type)\n"
   ]
  },
  {
   "cell_type": "code",
   "execution_count": 6,
   "metadata": {},
   "outputs": [
    {
     "name": "stdout",
     "output_type": "stream",
     "text": [
      "for 3.\n",
      "[[ 1  2  3]\n",
      " [26 46 41]\n",
      " [ 7 33 20]]\n",
      "rest\n",
      "[[26 46 41]\n",
      " [ 7 33 20]]\n",
      "elites\n",
      "[[7 8 9]]\n",
      "after\n",
      "[[ 7  8  9]\n",
      " [26 46 41]\n",
      " [ 7 33 20]]\n"
     ]
    }
   ],
   "source": [
    "for geno_i in range(elite_num, population):\n",
    "    for situ_i in range(situations):\n",
    "        rand = random.randrange(0, 100)\n",
    "        if rand >= mutation:\n",
    "            continue\n",
    "        value = situation[situ_i]\n",
    "        geno_type[geno_i][situ_i] = random.randrange(value[0], value[1])\n",
    "print('for 3.')\n",
    "print(geno_type)\n",
    "rest = geno_type[elite_num:]\n",
    "print('rest')\n",
    "print(rest)\n",
    "print('elites')\n",
    "print(elites)\n",
    "geno_type = np.asarray(np.r_[elites, rest], int)\n",
    "print('after')\n",
    "print(geno_type)"
   ]
  },
  {
   "cell_type": "code",
   "execution_count": 47,
   "metadata": {},
   "outputs": [],
   "source": [
    "def select_elites(geno_type, fitness, num):\n",
    "        \"\"\"\n",
    "\n",
    "        :param num: int\n",
    "        :param fitness: numpy\n",
    "        :param geno_type numpy\n",
    "        :return: numpy\n",
    "        \"\"\"\n",
    "        fitness = np.argsort(fitness)[::-1]\n",
    "        print(fitness)\n",
    "        print(fitness[:num])\n",
    "        print(geno_type)\n",
    "        elites = geno_type[fitness[:num - 1]]\n",
    "        return elites"
   ]
  },
  {
   "cell_type": "code",
   "execution_count": 48,
   "metadata": {},
   "outputs": [
    {
     "name": "stdout",
     "output_type": "stream",
     "text": [
      "[2 1 0]\n",
      "[2]\n",
      "[[ 4 16 30]\n",
      " [45 99  9]]\n",
      "[]\n"
     ]
    }
   ],
   "source": [
    "elites = select_elites(geno_type, fitness, 1)\n",
    "print(elites)"
   ]
  },
  {
   "cell_type": "code",
   "execution_count": 46,
   "metadata": {},
   "outputs": [
    {
     "name": "stdout",
     "output_type": "stream",
     "text": [
      "2\n",
      "[2 3]\n"
     ]
    }
   ],
   "source": [
    "arr = np.asarray([1, 2, 3, 4])\n",
    "print(arr[1])\n",
    "print(arr[[1,2]])"
   ]
  },
  {
   "cell_type": "code",
   "execution_count": null,
   "metadata": {},
   "outputs": [],
   "source": []
  }
 ],
 "metadata": {
  "kernelspec": {
   "display_name": "Python 3",
   "language": "python",
   "name": "python3"
  },
  "language_info": {
   "codemirror_mode": {
    "name": "ipython",
    "version": 3
   },
   "file_extension": ".py",
   "mimetype": "text/x-python",
   "name": "python",
   "nbconvert_exporter": "python",
   "pygments_lexer": "ipython3",
   "version": "3.6.3"
  }
 },
 "nbformat": 4,
 "nbformat_minor": 2
}
