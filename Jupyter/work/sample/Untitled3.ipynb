{
 "cells": [
  {
   "cell_type": "code",
   "execution_count": 2,
   "metadata": {},
   "outputs": [
    {
     "name": "stdout",
     "output_type": "stream",
     "text": [
      "here\n",
      "here\n"
     ]
    },
    {
     "data": {
      "text/plain": [
       "[None, None]"
      ]
     },
     "execution_count": 2,
     "metadata": {},
     "output_type": "execute_result"
    }
   ],
   "source": [
    "[print('here') for i in [1, 2, 3, -1, -2] if i < 0]"
   ]
  },
  {
   "cell_type": "code",
   "execution_count": 3,
   "metadata": {},
   "outputs": [
    {
     "name": "stdout",
     "output_type": "stream",
     "text": [
      "<class 'tuple'>\n"
     ]
    }
   ],
   "source": [
    "print(type((1,2)))"
   ]
  },
  {
   "cell_type": "code",
   "execution_count": 6,
   "metadata": {},
   "outputs": [],
   "source": [
    "if type((1,2)) is not tuple:\n",
    "    print(1)"
   ]
  },
  {
   "cell_type": "code",
   "execution_count": 9,
   "metadata": {},
   "outputs": [
    {
     "name": "stdout",
     "output_type": "stream",
     "text": [
      "<class 'numpy.ndarray'>\n"
     ]
    }
   ],
   "source": [
    "import numpy as np\n",
    "print(type(np.asarray([])))"
   ]
  },
  {
   "cell_type": "code",
   "execution_count": 6,
   "metadata": {},
   "outputs": [
    {
     "name": "stdout",
     "output_type": "stream",
     "text": [
      "[(1, 50), (2, 50), (1, 50)]\n",
      "[(1, 50), (2, 50), (1, 50)]\n",
      "b'[(1, 50), (2, 50), (1, 50)]'\n",
      "<class 'list'>\n",
      "<class 'str'>\n",
      "<class 'bytes'>\n",
      "['[', '(', '1', ',', ' ', '5', '0', ')', ',', ' ', '(', '2', ',', ' ', '5', '0', ')', ',', ' ', '(', '1', ',', ' ', '5', '0', ')', ']']\n"
     ]
    }
   ],
   "source": [
    "situation = [(1, 50), (2, 50), (1, 50)]\n",
    "print(situation)\n",
    "print(str(situation))\n",
    "print(str(situation).encode('utf8'))\n",
    "print(type(situation))\n",
    "print(type(str(situation)))\n",
    "print(type(str(situation).encode('utf8')))"
   ]
  },
  {
   "cell_type": "code",
   "execution_count": 14,
   "metadata": {},
   "outputs": [
    {
     "name": "stdout",
     "output_type": "stream",
     "text": [
      "b'\\x80\\x03]q\\x00(K\\x01K2\\x86q\\x01K\\x02K2\\x86q\\x02K\\x01K2\\x86q\\x03e.'\n",
      "[(1, 50), (2, 50), (1, 50)]\n"
     ]
    }
   ],
   "source": [
    "import pickle\n",
    "print(pickle.dumps(situation))\n",
    "print(pickle.loads(pickle.dumps(situation)))"
   ]
  },
  {
   "cell_type": "code",
   "execution_count": null,
   "metadata": {},
   "outputs": [],
   "source": []
  }
 ],
 "metadata": {
  "kernelspec": {
   "display_name": "Python 3",
   "language": "python",
   "name": "python3"
  },
  "language_info": {
   "codemirror_mode": {
    "name": "ipython",
    "version": 3
   },
   "file_extension": ".py",
   "mimetype": "text/x-python",
   "name": "python",
   "nbconvert_exporter": "python",
   "pygments_lexer": "ipython3",
   "version": "3.6.3"
  }
 },
 "nbformat": 4,
 "nbformat_minor": 2
}
