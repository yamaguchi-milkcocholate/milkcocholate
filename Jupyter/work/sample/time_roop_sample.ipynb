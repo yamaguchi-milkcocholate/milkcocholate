{
 "cells": [
  {
   "cell_type": "code",
   "execution_count": 6,
   "metadata": {},
   "outputs": [
    {
     "name": "stdout",
     "output_type": "stream",
     "text": [
      "2018-09-02\n",
      "2018-09-03\n",
      "2018-09-04\n",
      "2018-09-05\n",
      "2018-09-06\n",
      "2018-09-07\n",
      "2018-09-08\n",
      "2018-09-09\n",
      "2018-09-10\n",
      "2018-09-11\n",
      "2018-09-12\n",
      "2018-09-13\n",
      "2018-09-14\n",
      "2018-09-15\n",
      "2018-09-16\n",
      "2018-09-17\n",
      "2018-09-18\n",
      "2018-09-19\n",
      "2018-09-20\n",
      "2018-09-21\n",
      "2018-09-22\n",
      "2018-09-23\n",
      "2018-09-24\n",
      "2018-09-25\n",
      "2018-09-26\n",
      "2018-09-27\n",
      "2018-09-28\n",
      "2018-09-29\n",
      "2018-09-30\n",
      "2018-10-01\n",
      "2018-10-02\n",
      "2018-10-03\n",
      "2018-10-04\n",
      "2018-10-05\n",
      "2018-10-06\n",
      "2018-10-07\n",
      "2018-10-08\n",
      "2018-10-09\n",
      "2018-10-10\n",
      "2018-10-11\n",
      "2018-10-12\n",
      "2018-10-13\n",
      "2018-10-14\n",
      "2018-10-15\n",
      "2018-10-16\n",
      "2018-10-17\n",
      "2018-10-18\n",
      "2018-10-19\n",
      "2018-10-20\n",
      "2018-10-21\n",
      "2018-10-22\n",
      "2018-10-23\n",
      "2018-10-24\n",
      "2018-10-25\n",
      "2018-10-26\n",
      "2018-10-27\n",
      "2018-10-28\n",
      "2018-10-29\n",
      "2018-10-30\n",
      "fin\n"
     ]
    }
   ],
   "source": [
    "import datetime\n",
    "\n",
    "start = '2018-09-01'\n",
    "end = '2018-10-30'\n",
    "format = '%Y-%m-%d'\n",
    "\n",
    "start_day = datetime.datetime.strptime(start, format)\n",
    "end_day = datetime.datetime.strptime(end, format)\n",
    "day = start_day\n",
    "\n",
    "while True:\n",
    "    day += datetime.timedelta(days=1)\n",
    "    print(day.strftime(format))\n",
    "    if day >= end_day:\n",
    "        break\n",
    "\n",
    "print('fin')"
   ]
  },
  {
   "cell_type": "code",
   "execution_count": null,
   "metadata": {},
   "outputs": [],
   "source": []
  }
 ],
 "metadata": {
  "kernelspec": {
   "display_name": "Python 3",
   "language": "python",
   "name": "python3"
  },
  "language_info": {
   "codemirror_mode": {
    "name": "ipython",
    "version": 3
   },
   "file_extension": ".py",
   "mimetype": "text/x-python",
   "name": "python",
   "nbconvert_exporter": "python",
   "pygments_lexer": "ipython3",
   "version": "3.6.3"
  }
 },
 "nbformat": 4,
 "nbformat_minor": 2
}
